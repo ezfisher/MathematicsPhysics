{
 "cells": [
  {
   "cell_type": "code",
   "execution_count": 17,
   "source": [
    "from pendulum import spherical_pendulum\n",
    "import pandas as pd\n",
    "import numpy as np\n",
    "import matplotlib.pyplot as plt\n",
    "import math\n",
    "\n",
    "# parameters for spherical pendulum\n",
    "azimuthal_angle = [0]\n",
    "polar_angle = [math.pi/2]\n",
    "length, gravity, mass = 1, 10, 1\n",
    "time_step, time_max = 0.01, 100\n",
    "\n",
    "# collect data\n",
    "azimuthal_angle, polar_angle = spherical_pendulum(azimuthal_angle, polar_angle, length, gravity, mass, time_step, time_max)\n",
    "\n",
    "data = polar_angle\n",
    "train = data[:8000]\n",
    "test = data[8001:]"
   ],
   "outputs": [],
   "metadata": {}
  },
  {
   "cell_type": "markdown",
   "source": [
    "# Autoregression"
   ],
   "metadata": {}
  },
  {
   "cell_type": "code",
   "execution_count": 48,
   "source": [
    "from statsmodels.tsa.ar_model import AutoReg\n",
    "from statsmodels.tsa.arima.model import ARIMA\n",
    "from statsmodels.tsa.statespace.sarimax import SARIMAX\n",
    "from sklearn.metrics import mean_squared_error"
   ],
   "outputs": [],
   "metadata": {}
  },
  {
   "cell_type": "code",
   "execution_count": 50,
   "source": [
    "'''\n",
    "Using autoregression, moving average, autoregressive moving average, autoregressive integrated moving average, seasonal\n",
    "autoregressive integrated moving average\n",
    "'''\n",
    "\n",
    "models = [\n",
    "            AutoReg(train, lags=1), \n",
    "            ARIMA(train, order=(0, 0, 1)), \n",
    "            ARIMA(train, order=(2,0,1)), \n",
    "            ARIMA(train, order=(1,1,1)),\n",
    "            SARIMAX(train, order=(1,1,1), seasonal_order=(0,0,0,0))\n",
    "        ]\n",
    "root_mean_squared_errors = []\n",
    "\n",
    "for model in models:\n",
    "    model_fit = model.fit()\n",
    "    preds = model_fit.predict(start=len(train), end=len(train) + len(test) -1)\n",
    "    root_mean_squared_errors.append(math.sqrt(mean_squared_error(preds, test)))\n",
    "\n",
    "print (root_mean_squared_errors)"
   ],
   "outputs": [
    {
     "output_type": "stream",
     "name": "stderr",
     "text": [
      "/home/eric/anaconda3/lib/python3.8/site-packages/statsmodels/tsa/ar_model.py:248: FutureWarning: The parameter names will change after 0.12 is released. Set old_names to False to use the new names now. Set old_names to True to use the old names. \n",
      "  warnings.warn(\n",
      "/home/eric/anaconda3/lib/python3.8/site-packages/statsmodels/tsa/statespace/sarimax.py:966: UserWarning: Non-stationary starting autoregressive parameters found. Using zeros as starting parameters.\n",
      "  warn('Non-stationary starting autoregressive parameters'\n",
      "/home/eric/anaconda3/lib/python3.8/site-packages/statsmodels/tsa/statespace/sarimax.py:978: UserWarning: Non-invertible starting MA parameters found. Using zeros as starting parameters.\n",
      "  warn('Non-invertible starting MA parameters found.'\n"
     ]
    },
    {
     "output_type": "stream",
     "name": "stdout",
     "text": [
      "[1.9144504611818687, 1.914370223458114, 1.9144642584189149, 1.912800347294748, 1.912800347294748]\n"
     ]
    }
   ],
   "metadata": {}
  },
  {
   "cell_type": "code",
   "execution_count": null,
   "source": [],
   "outputs": [],
   "metadata": {}
  }
 ],
 "metadata": {
  "orig_nbformat": 4,
  "language_info": {
   "name": "python",
   "version": "3.8.3",
   "mimetype": "text/x-python",
   "codemirror_mode": {
    "name": "ipython",
    "version": 3
   },
   "pygments_lexer": "ipython3",
   "nbconvert_exporter": "python",
   "file_extension": ".py"
  },
  "kernelspec": {
   "name": "python3",
   "display_name": "Python 3.8.3 64-bit ('base': conda)"
  },
  "interpreter": {
   "hash": "06cdba58f8aeaa7bb780e7e3845346f72a24b0b6079278efb2cc455e5f528d59"
  }
 },
 "nbformat": 4,
 "nbformat_minor": 2
}